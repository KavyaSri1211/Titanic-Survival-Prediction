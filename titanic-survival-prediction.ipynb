{
 "cells": [
  {
   "cell_type": "code",
   "execution_count": 1,
   "id": "bad7f40d",
   "metadata": {
    "execution": {
     "iopub.execute_input": "2023-03-07T06:27:33.164750Z",
     "iopub.status.busy": "2023-03-07T06:27:33.163520Z",
     "iopub.status.idle": "2023-03-07T06:27:34.599781Z",
     "shell.execute_reply": "2023-03-07T06:27:34.598438Z"
    },
    "id": "LX26QBaWIBPN",
    "papermill": {
     "duration": 1.454746,
     "end_time": "2023-03-07T06:27:34.602708",
     "exception": false,
     "start_time": "2023-03-07T06:27:33.147962",
     "status": "completed"
    },
    "tags": []
   },
   "outputs": [],
   "source": [
    "import pandas as pd\n",
    "import numpy as np\n",
    "import matplotlib.pyplot as plt\n",
    "import seaborn as sns"
   ]
  },
  {
   "cell_type": "code",
   "execution_count": 2,
   "id": "017f6a50",
   "metadata": {
    "execution": {
     "iopub.execute_input": "2023-03-07T06:27:34.630204Z",
     "iopub.status.busy": "2023-03-07T06:27:34.629470Z",
     "iopub.status.idle": "2023-03-07T06:27:34.661132Z",
     "shell.execute_reply": "2023-03-07T06:27:34.659896Z"
    },
    "id": "B6E0bzwSI8oE",
    "outputId": "21c058c0-f757-4432-a861-e150bc5dfbd2",
    "papermill": {
     "duration": 0.048555,
     "end_time": "2023-03-07T06:27:34.663954",
     "exception": false,
     "start_time": "2023-03-07T06:27:34.615399",
     "status": "completed"
    },
    "tags": []
   },
   "outputs": [],
   "source": [
    "df_train=pd.read_csv(\"/kaggle/input/titanic/train.csv\")\n",
    "df_test=pd.read_csv(\"/kaggle/input/titanic/test.csv\")"
   ]
  },
  {
   "cell_type": "code",
   "execution_count": 3,
   "id": "b4582be3",
   "metadata": {
    "execution": {
     "iopub.execute_input": "2023-03-07T06:27:34.693263Z",
     "iopub.status.busy": "2023-03-07T06:27:34.692408Z",
     "iopub.status.idle": "2023-03-07T06:27:34.700154Z",
     "shell.execute_reply": "2023-03-07T06:27:34.699166Z"
    },
    "id": "F95kt3a6osLM",
    "papermill": {
     "duration": 0.024168,
     "end_time": "2023-03-07T06:27:34.702476",
     "exception": false,
     "start_time": "2023-03-07T06:27:34.678308",
     "status": "completed"
    },
    "tags": []
   },
   "outputs": [
    {
     "data": {
      "text/plain": [
       "(891, 12)"
      ]
     },
     "execution_count": 3,
     "metadata": {},
     "output_type": "execute_result"
    }
   ],
   "source": [
    "df_train.shape"
   ]
  },
  {
   "cell_type": "code",
   "execution_count": 4,
   "id": "fc7ae8e1",
   "metadata": {
    "execution": {
     "iopub.execute_input": "2023-03-07T06:27:34.730268Z",
     "iopub.status.busy": "2023-03-07T06:27:34.729313Z",
     "iopub.status.idle": "2023-03-07T06:27:34.737913Z",
     "shell.execute_reply": "2023-03-07T06:27:34.736271Z"
    },
    "id": "F3X91CARosPg",
    "papermill": {
     "duration": 0.025941,
     "end_time": "2023-03-07T06:27:34.740885",
     "exception": false,
     "start_time": "2023-03-07T06:27:34.714944",
     "status": "completed"
    },
    "tags": []
   },
   "outputs": [
    {
     "data": {
      "text/plain": [
       "(418, 11)"
      ]
     },
     "execution_count": 4,
     "metadata": {},
     "output_type": "execute_result"
    }
   ],
   "source": [
    "df_test.shape"
   ]
  },
  {
   "cell_type": "code",
   "execution_count": 5,
   "id": "0739aa60",
   "metadata": {
    "execution": {
     "iopub.execute_input": "2023-03-07T06:27:34.768790Z",
     "iopub.status.busy": "2023-03-07T06:27:34.767903Z",
     "iopub.status.idle": "2023-03-07T06:27:34.809165Z",
     "shell.execute_reply": "2023-03-07T06:27:34.807842Z"
    },
    "id": "kbGsHClLJqxO",
    "papermill": {
     "duration": 0.058339,
     "end_time": "2023-03-07T06:27:34.811870",
     "exception": false,
     "start_time": "2023-03-07T06:27:34.753531",
     "status": "completed"
    },
    "tags": []
   },
   "outputs": [
    {
     "data": {
      "text/html": [
       "<div>\n",
       "<style scoped>\n",
       "    .dataframe tbody tr th:only-of-type {\n",
       "        vertical-align: middle;\n",
       "    }\n",
       "\n",
       "    .dataframe tbody tr th {\n",
       "        vertical-align: top;\n",
       "    }\n",
       "\n",
       "    .dataframe thead th {\n",
       "        text-align: right;\n",
       "    }\n",
       "</style>\n",
       "<table border=\"1\" class=\"dataframe\">\n",
       "  <thead>\n",
       "    <tr style=\"text-align: right;\">\n",
       "      <th></th>\n",
       "      <th>PassengerId</th>\n",
       "      <th>Survived</th>\n",
       "      <th>Pclass</th>\n",
       "      <th>Name</th>\n",
       "      <th>Sex</th>\n",
       "      <th>Age</th>\n",
       "      <th>SibSp</th>\n",
       "      <th>Parch</th>\n",
       "      <th>Ticket</th>\n",
       "      <th>Fare</th>\n",
       "      <th>Cabin</th>\n",
       "      <th>Embarked</th>\n",
       "    </tr>\n",
       "  </thead>\n",
       "  <tbody>\n",
       "    <tr>\n",
       "      <th>0</th>\n",
       "      <td>1</td>\n",
       "      <td>0</td>\n",
       "      <td>3</td>\n",
       "      <td>Braund, Mr. Owen Harris</td>\n",
       "      <td>male</td>\n",
       "      <td>22.0</td>\n",
       "      <td>1</td>\n",
       "      <td>0</td>\n",
       "      <td>A/5 21171</td>\n",
       "      <td>7.2500</td>\n",
       "      <td>NaN</td>\n",
       "      <td>S</td>\n",
       "    </tr>\n",
       "    <tr>\n",
       "      <th>1</th>\n",
       "      <td>2</td>\n",
       "      <td>1</td>\n",
       "      <td>1</td>\n",
       "      <td>Cumings, Mrs. John Bradley (Florence Briggs Th...</td>\n",
       "      <td>female</td>\n",
       "      <td>38.0</td>\n",
       "      <td>1</td>\n",
       "      <td>0</td>\n",
       "      <td>PC 17599</td>\n",
       "      <td>71.2833</td>\n",
       "      <td>C85</td>\n",
       "      <td>C</td>\n",
       "    </tr>\n",
       "    <tr>\n",
       "      <th>2</th>\n",
       "      <td>3</td>\n",
       "      <td>1</td>\n",
       "      <td>3</td>\n",
       "      <td>Heikkinen, Miss. Laina</td>\n",
       "      <td>female</td>\n",
       "      <td>26.0</td>\n",
       "      <td>0</td>\n",
       "      <td>0</td>\n",
       "      <td>STON/O2. 3101282</td>\n",
       "      <td>7.9250</td>\n",
       "      <td>NaN</td>\n",
       "      <td>S</td>\n",
       "    </tr>\n",
       "    <tr>\n",
       "      <th>3</th>\n",
       "      <td>4</td>\n",
       "      <td>1</td>\n",
       "      <td>1</td>\n",
       "      <td>Futrelle, Mrs. Jacques Heath (Lily May Peel)</td>\n",
       "      <td>female</td>\n",
       "      <td>35.0</td>\n",
       "      <td>1</td>\n",
       "      <td>0</td>\n",
       "      <td>113803</td>\n",
       "      <td>53.1000</td>\n",
       "      <td>C123</td>\n",
       "      <td>S</td>\n",
       "    </tr>\n",
       "    <tr>\n",
       "      <th>4</th>\n",
       "      <td>5</td>\n",
       "      <td>0</td>\n",
       "      <td>3</td>\n",
       "      <td>Allen, Mr. William Henry</td>\n",
       "      <td>male</td>\n",
       "      <td>35.0</td>\n",
       "      <td>0</td>\n",
       "      <td>0</td>\n",
       "      <td>373450</td>\n",
       "      <td>8.0500</td>\n",
       "      <td>NaN</td>\n",
       "      <td>S</td>\n",
       "    </tr>\n",
       "  </tbody>\n",
       "</table>\n",
       "</div>"
      ],
      "text/plain": [
       "   PassengerId  Survived  Pclass  \\\n",
       "0            1         0       3   \n",
       "1            2         1       1   \n",
       "2            3         1       3   \n",
       "3            4         1       1   \n",
       "4            5         0       3   \n",
       "\n",
       "                                                Name     Sex   Age  SibSp  \\\n",
       "0                            Braund, Mr. Owen Harris    male  22.0      1   \n",
       "1  Cumings, Mrs. John Bradley (Florence Briggs Th...  female  38.0      1   \n",
       "2                             Heikkinen, Miss. Laina  female  26.0      0   \n",
       "3       Futrelle, Mrs. Jacques Heath (Lily May Peel)  female  35.0      1   \n",
       "4                           Allen, Mr. William Henry    male  35.0      0   \n",
       "\n",
       "   Parch            Ticket     Fare Cabin Embarked  \n",
       "0      0         A/5 21171   7.2500   NaN        S  \n",
       "1      0          PC 17599  71.2833   C85        C  \n",
       "2      0  STON/O2. 3101282   7.9250   NaN        S  \n",
       "3      0            113803  53.1000  C123        S  \n",
       "4      0            373450   8.0500   NaN        S  "
      ]
     },
     "execution_count": 5,
     "metadata": {},
     "output_type": "execute_result"
    }
   ],
   "source": [
    "df_train.head(5)"
   ]
  },
  {
   "cell_type": "code",
   "execution_count": 6,
   "id": "073e447e",
   "metadata": {
    "execution": {
     "iopub.execute_input": "2023-03-07T06:27:34.840686Z",
     "iopub.status.busy": "2023-03-07T06:27:34.839041Z",
     "iopub.status.idle": "2023-03-07T06:27:34.859188Z",
     "shell.execute_reply": "2023-03-07T06:27:34.857679Z"
    },
    "id": "309gdhxlJzm_",
    "papermill": {
     "duration": 0.037486,
     "end_time": "2023-03-07T06:27:34.862233",
     "exception": false,
     "start_time": "2023-03-07T06:27:34.824747",
     "status": "completed"
    },
    "tags": []
   },
   "outputs": [
    {
     "data": {
      "text/html": [
       "<div>\n",
       "<style scoped>\n",
       "    .dataframe tbody tr th:only-of-type {\n",
       "        vertical-align: middle;\n",
       "    }\n",
       "\n",
       "    .dataframe tbody tr th {\n",
       "        vertical-align: top;\n",
       "    }\n",
       "\n",
       "    .dataframe thead th {\n",
       "        text-align: right;\n",
       "    }\n",
       "</style>\n",
       "<table border=\"1\" class=\"dataframe\">\n",
       "  <thead>\n",
       "    <tr style=\"text-align: right;\">\n",
       "      <th></th>\n",
       "      <th>PassengerId</th>\n",
       "      <th>Pclass</th>\n",
       "      <th>Name</th>\n",
       "      <th>Sex</th>\n",
       "      <th>Age</th>\n",
       "      <th>SibSp</th>\n",
       "      <th>Parch</th>\n",
       "      <th>Ticket</th>\n",
       "      <th>Fare</th>\n",
       "      <th>Cabin</th>\n",
       "      <th>Embarked</th>\n",
       "    </tr>\n",
       "  </thead>\n",
       "  <tbody>\n",
       "    <tr>\n",
       "      <th>0</th>\n",
       "      <td>892</td>\n",
       "      <td>3</td>\n",
       "      <td>Kelly, Mr. James</td>\n",
       "      <td>male</td>\n",
       "      <td>34.5</td>\n",
       "      <td>0</td>\n",
       "      <td>0</td>\n",
       "      <td>330911</td>\n",
       "      <td>7.8292</td>\n",
       "      <td>NaN</td>\n",
       "      <td>Q</td>\n",
       "    </tr>\n",
       "    <tr>\n",
       "      <th>1</th>\n",
       "      <td>893</td>\n",
       "      <td>3</td>\n",
       "      <td>Wilkes, Mrs. James (Ellen Needs)</td>\n",
       "      <td>female</td>\n",
       "      <td>47.0</td>\n",
       "      <td>1</td>\n",
       "      <td>0</td>\n",
       "      <td>363272</td>\n",
       "      <td>7.0000</td>\n",
       "      <td>NaN</td>\n",
       "      <td>S</td>\n",
       "    </tr>\n",
       "    <tr>\n",
       "      <th>2</th>\n",
       "      <td>894</td>\n",
       "      <td>2</td>\n",
       "      <td>Myles, Mr. Thomas Francis</td>\n",
       "      <td>male</td>\n",
       "      <td>62.0</td>\n",
       "      <td>0</td>\n",
       "      <td>0</td>\n",
       "      <td>240276</td>\n",
       "      <td>9.6875</td>\n",
       "      <td>NaN</td>\n",
       "      <td>Q</td>\n",
       "    </tr>\n",
       "    <tr>\n",
       "      <th>3</th>\n",
       "      <td>895</td>\n",
       "      <td>3</td>\n",
       "      <td>Wirz, Mr. Albert</td>\n",
       "      <td>male</td>\n",
       "      <td>27.0</td>\n",
       "      <td>0</td>\n",
       "      <td>0</td>\n",
       "      <td>315154</td>\n",
       "      <td>8.6625</td>\n",
       "      <td>NaN</td>\n",
       "      <td>S</td>\n",
       "    </tr>\n",
       "    <tr>\n",
       "      <th>4</th>\n",
       "      <td>896</td>\n",
       "      <td>3</td>\n",
       "      <td>Hirvonen, Mrs. Alexander (Helga E Lindqvist)</td>\n",
       "      <td>female</td>\n",
       "      <td>22.0</td>\n",
       "      <td>1</td>\n",
       "      <td>1</td>\n",
       "      <td>3101298</td>\n",
       "      <td>12.2875</td>\n",
       "      <td>NaN</td>\n",
       "      <td>S</td>\n",
       "    </tr>\n",
       "  </tbody>\n",
       "</table>\n",
       "</div>"
      ],
      "text/plain": [
       "   PassengerId  Pclass                                          Name     Sex  \\\n",
       "0          892       3                              Kelly, Mr. James    male   \n",
       "1          893       3              Wilkes, Mrs. James (Ellen Needs)  female   \n",
       "2          894       2                     Myles, Mr. Thomas Francis    male   \n",
       "3          895       3                              Wirz, Mr. Albert    male   \n",
       "4          896       3  Hirvonen, Mrs. Alexander (Helga E Lindqvist)  female   \n",
       "\n",
       "    Age  SibSp  Parch   Ticket     Fare Cabin Embarked  \n",
       "0  34.5      0      0   330911   7.8292   NaN        Q  \n",
       "1  47.0      1      0   363272   7.0000   NaN        S  \n",
       "2  62.0      0      0   240276   9.6875   NaN        Q  \n",
       "3  27.0      0      0   315154   8.6625   NaN        S  \n",
       "4  22.0      1      1  3101298  12.2875   NaN        S  "
      ]
     },
     "execution_count": 6,
     "metadata": {},
     "output_type": "execute_result"
    }
   ],
   "source": [
    "df_test.head(5)"
   ]
  },
  {
   "cell_type": "code",
   "execution_count": 7,
   "id": "03481fe7",
   "metadata": {
    "execution": {
     "iopub.execute_input": "2023-03-07T06:27:34.892989Z",
     "iopub.status.busy": "2023-03-07T06:27:34.892087Z",
     "iopub.status.idle": "2023-03-07T06:27:34.924729Z",
     "shell.execute_reply": "2023-03-07T06:27:34.923327Z"
    },
    "id": "gxvunG1LJ6-2",
    "papermill": {
     "duration": 0.0521,
     "end_time": "2023-03-07T06:27:34.927730",
     "exception": false,
     "start_time": "2023-03-07T06:27:34.875630",
     "status": "completed"
    },
    "tags": []
   },
   "outputs": [
    {
     "name": "stdout",
     "output_type": "stream",
     "text": [
      "<class 'pandas.core.frame.DataFrame'>\n",
      "RangeIndex: 891 entries, 0 to 890\n",
      "Data columns (total 12 columns):\n",
      " #   Column       Non-Null Count  Dtype  \n",
      "---  ------       --------------  -----  \n",
      " 0   PassengerId  891 non-null    int64  \n",
      " 1   Survived     891 non-null    int64  \n",
      " 2   Pclass       891 non-null    int64  \n",
      " 3   Name         891 non-null    object \n",
      " 4   Sex          891 non-null    object \n",
      " 5   Age          714 non-null    float64\n",
      " 6   SibSp        891 non-null    int64  \n",
      " 7   Parch        891 non-null    int64  \n",
      " 8   Ticket       891 non-null    object \n",
      " 9   Fare         891 non-null    float64\n",
      " 10  Cabin        204 non-null    object \n",
      " 11  Embarked     889 non-null    object \n",
      "dtypes: float64(2), int64(5), object(5)\n",
      "memory usage: 83.7+ KB\n"
     ]
    }
   ],
   "source": [
    "df_train.info()"
   ]
  },
  {
   "cell_type": "code",
   "execution_count": 8,
   "id": "66910dd7",
   "metadata": {
    "execution": {
     "iopub.execute_input": "2023-03-07T06:27:34.958369Z",
     "iopub.status.busy": "2023-03-07T06:27:34.955816Z",
     "iopub.status.idle": "2023-03-07T06:27:34.972965Z",
     "shell.execute_reply": "2023-03-07T06:27:34.970946Z"
    },
    "id": "a0JXPfUKKCar",
    "papermill": {
     "duration": 0.036231,
     "end_time": "2023-03-07T06:27:34.977152",
     "exception": false,
     "start_time": "2023-03-07T06:27:34.940921",
     "status": "completed"
    },
    "tags": []
   },
   "outputs": [
    {
     "name": "stdout",
     "output_type": "stream",
     "text": [
      "<class 'pandas.core.frame.DataFrame'>\n",
      "RangeIndex: 418 entries, 0 to 417\n",
      "Data columns (total 11 columns):\n",
      " #   Column       Non-Null Count  Dtype  \n",
      "---  ------       --------------  -----  \n",
      " 0   PassengerId  418 non-null    int64  \n",
      " 1   Pclass       418 non-null    int64  \n",
      " 2   Name         418 non-null    object \n",
      " 3   Sex          418 non-null    object \n",
      " 4   Age          332 non-null    float64\n",
      " 5   SibSp        418 non-null    int64  \n",
      " 6   Parch        418 non-null    int64  \n",
      " 7   Ticket       418 non-null    object \n",
      " 8   Fare         417 non-null    float64\n",
      " 9   Cabin        91 non-null     object \n",
      " 10  Embarked     418 non-null    object \n",
      "dtypes: float64(2), int64(4), object(5)\n",
      "memory usage: 36.0+ KB\n"
     ]
    }
   ],
   "source": [
    "df_test.info()"
   ]
  },
  {
   "cell_type": "code",
   "execution_count": 9,
   "id": "a30c92e7",
   "metadata": {
    "execution": {
     "iopub.execute_input": "2023-03-07T06:27:35.009074Z",
     "iopub.status.busy": "2023-03-07T06:27:35.008066Z",
     "iopub.status.idle": "2023-03-07T06:27:35.050679Z",
     "shell.execute_reply": "2023-03-07T06:27:35.048683Z"
    },
    "id": "qnF-i-JaKS0a",
    "papermill": {
     "duration": 0.062547,
     "end_time": "2023-03-07T06:27:35.054073",
     "exception": false,
     "start_time": "2023-03-07T06:27:34.991526",
     "status": "completed"
    },
    "tags": []
   },
   "outputs": [
    {
     "data": {
      "text/html": [
       "<div>\n",
       "<style scoped>\n",
       "    .dataframe tbody tr th:only-of-type {\n",
       "        vertical-align: middle;\n",
       "    }\n",
       "\n",
       "    .dataframe tbody tr th {\n",
       "        vertical-align: top;\n",
       "    }\n",
       "\n",
       "    .dataframe thead th {\n",
       "        text-align: right;\n",
       "    }\n",
       "</style>\n",
       "<table border=\"1\" class=\"dataframe\">\n",
       "  <thead>\n",
       "    <tr style=\"text-align: right;\">\n",
       "      <th></th>\n",
       "      <th>PassengerId</th>\n",
       "      <th>Survived</th>\n",
       "      <th>Pclass</th>\n",
       "      <th>Age</th>\n",
       "      <th>SibSp</th>\n",
       "      <th>Parch</th>\n",
       "      <th>Fare</th>\n",
       "    </tr>\n",
       "  </thead>\n",
       "  <tbody>\n",
       "    <tr>\n",
       "      <th>count</th>\n",
       "      <td>891.000000</td>\n",
       "      <td>891.000000</td>\n",
       "      <td>891.000000</td>\n",
       "      <td>714.000000</td>\n",
       "      <td>891.000000</td>\n",
       "      <td>891.000000</td>\n",
       "      <td>891.000000</td>\n",
       "    </tr>\n",
       "    <tr>\n",
       "      <th>mean</th>\n",
       "      <td>446.000000</td>\n",
       "      <td>0.383838</td>\n",
       "      <td>2.308642</td>\n",
       "      <td>29.699118</td>\n",
       "      <td>0.523008</td>\n",
       "      <td>0.381594</td>\n",
       "      <td>32.204208</td>\n",
       "    </tr>\n",
       "    <tr>\n",
       "      <th>std</th>\n",
       "      <td>257.353842</td>\n",
       "      <td>0.486592</td>\n",
       "      <td>0.836071</td>\n",
       "      <td>14.526497</td>\n",
       "      <td>1.102743</td>\n",
       "      <td>0.806057</td>\n",
       "      <td>49.693429</td>\n",
       "    </tr>\n",
       "    <tr>\n",
       "      <th>min</th>\n",
       "      <td>1.000000</td>\n",
       "      <td>0.000000</td>\n",
       "      <td>1.000000</td>\n",
       "      <td>0.420000</td>\n",
       "      <td>0.000000</td>\n",
       "      <td>0.000000</td>\n",
       "      <td>0.000000</td>\n",
       "    </tr>\n",
       "    <tr>\n",
       "      <th>25%</th>\n",
       "      <td>223.500000</td>\n",
       "      <td>0.000000</td>\n",
       "      <td>2.000000</td>\n",
       "      <td>20.125000</td>\n",
       "      <td>0.000000</td>\n",
       "      <td>0.000000</td>\n",
       "      <td>7.910400</td>\n",
       "    </tr>\n",
       "    <tr>\n",
       "      <th>50%</th>\n",
       "      <td>446.000000</td>\n",
       "      <td>0.000000</td>\n",
       "      <td>3.000000</td>\n",
       "      <td>28.000000</td>\n",
       "      <td>0.000000</td>\n",
       "      <td>0.000000</td>\n",
       "      <td>14.454200</td>\n",
       "    </tr>\n",
       "    <tr>\n",
       "      <th>75%</th>\n",
       "      <td>668.500000</td>\n",
       "      <td>1.000000</td>\n",
       "      <td>3.000000</td>\n",
       "      <td>38.000000</td>\n",
       "      <td>1.000000</td>\n",
       "      <td>0.000000</td>\n",
       "      <td>31.000000</td>\n",
       "    </tr>\n",
       "    <tr>\n",
       "      <th>max</th>\n",
       "      <td>891.000000</td>\n",
       "      <td>1.000000</td>\n",
       "      <td>3.000000</td>\n",
       "      <td>80.000000</td>\n",
       "      <td>8.000000</td>\n",
       "      <td>6.000000</td>\n",
       "      <td>512.329200</td>\n",
       "    </tr>\n",
       "  </tbody>\n",
       "</table>\n",
       "</div>"
      ],
      "text/plain": [
       "       PassengerId    Survived      Pclass         Age       SibSp  \\\n",
       "count   891.000000  891.000000  891.000000  714.000000  891.000000   \n",
       "mean    446.000000    0.383838    2.308642   29.699118    0.523008   \n",
       "std     257.353842    0.486592    0.836071   14.526497    1.102743   \n",
       "min       1.000000    0.000000    1.000000    0.420000    0.000000   \n",
       "25%     223.500000    0.000000    2.000000   20.125000    0.000000   \n",
       "50%     446.000000    0.000000    3.000000   28.000000    0.000000   \n",
       "75%     668.500000    1.000000    3.000000   38.000000    1.000000   \n",
       "max     891.000000    1.000000    3.000000   80.000000    8.000000   \n",
       "\n",
       "            Parch        Fare  \n",
       "count  891.000000  891.000000  \n",
       "mean     0.381594   32.204208  \n",
       "std      0.806057   49.693429  \n",
       "min      0.000000    0.000000  \n",
       "25%      0.000000    7.910400  \n",
       "50%      0.000000   14.454200  \n",
       "75%      0.000000   31.000000  \n",
       "max      6.000000  512.329200  "
      ]
     },
     "execution_count": 9,
     "metadata": {},
     "output_type": "execute_result"
    }
   ],
   "source": [
    "df_train.describe()"
   ]
  },
  {
   "cell_type": "code",
   "execution_count": 10,
   "id": "fe29e128",
   "metadata": {
    "execution": {
     "iopub.execute_input": "2023-03-07T06:27:35.085906Z",
     "iopub.status.busy": "2023-03-07T06:27:35.085398Z",
     "iopub.status.idle": "2023-03-07T06:27:35.118640Z",
     "shell.execute_reply": "2023-03-07T06:27:35.116635Z"
    },
    "id": "jRQUX_zNKtmC",
    "papermill": {
     "duration": 0.054436,
     "end_time": "2023-03-07T06:27:35.122370",
     "exception": false,
     "start_time": "2023-03-07T06:27:35.067934",
     "status": "completed"
    },
    "tags": []
   },
   "outputs": [
    {
     "data": {
      "text/html": [
       "<div>\n",
       "<style scoped>\n",
       "    .dataframe tbody tr th:only-of-type {\n",
       "        vertical-align: middle;\n",
       "    }\n",
       "\n",
       "    .dataframe tbody tr th {\n",
       "        vertical-align: top;\n",
       "    }\n",
       "\n",
       "    .dataframe thead th {\n",
       "        text-align: right;\n",
       "    }\n",
       "</style>\n",
       "<table border=\"1\" class=\"dataframe\">\n",
       "  <thead>\n",
       "    <tr style=\"text-align: right;\">\n",
       "      <th></th>\n",
       "      <th>PassengerId</th>\n",
       "      <th>Pclass</th>\n",
       "      <th>Age</th>\n",
       "      <th>SibSp</th>\n",
       "      <th>Parch</th>\n",
       "      <th>Fare</th>\n",
       "    </tr>\n",
       "  </thead>\n",
       "  <tbody>\n",
       "    <tr>\n",
       "      <th>count</th>\n",
       "      <td>418.000000</td>\n",
       "      <td>418.000000</td>\n",
       "      <td>332.000000</td>\n",
       "      <td>418.000000</td>\n",
       "      <td>418.000000</td>\n",
       "      <td>417.000000</td>\n",
       "    </tr>\n",
       "    <tr>\n",
       "      <th>mean</th>\n",
       "      <td>1100.500000</td>\n",
       "      <td>2.265550</td>\n",
       "      <td>30.272590</td>\n",
       "      <td>0.447368</td>\n",
       "      <td>0.392344</td>\n",
       "      <td>35.627188</td>\n",
       "    </tr>\n",
       "    <tr>\n",
       "      <th>std</th>\n",
       "      <td>120.810458</td>\n",
       "      <td>0.841838</td>\n",
       "      <td>14.181209</td>\n",
       "      <td>0.896760</td>\n",
       "      <td>0.981429</td>\n",
       "      <td>55.907576</td>\n",
       "    </tr>\n",
       "    <tr>\n",
       "      <th>min</th>\n",
       "      <td>892.000000</td>\n",
       "      <td>1.000000</td>\n",
       "      <td>0.170000</td>\n",
       "      <td>0.000000</td>\n",
       "      <td>0.000000</td>\n",
       "      <td>0.000000</td>\n",
       "    </tr>\n",
       "    <tr>\n",
       "      <th>25%</th>\n",
       "      <td>996.250000</td>\n",
       "      <td>1.000000</td>\n",
       "      <td>21.000000</td>\n",
       "      <td>0.000000</td>\n",
       "      <td>0.000000</td>\n",
       "      <td>7.895800</td>\n",
       "    </tr>\n",
       "    <tr>\n",
       "      <th>50%</th>\n",
       "      <td>1100.500000</td>\n",
       "      <td>3.000000</td>\n",
       "      <td>27.000000</td>\n",
       "      <td>0.000000</td>\n",
       "      <td>0.000000</td>\n",
       "      <td>14.454200</td>\n",
       "    </tr>\n",
       "    <tr>\n",
       "      <th>75%</th>\n",
       "      <td>1204.750000</td>\n",
       "      <td>3.000000</td>\n",
       "      <td>39.000000</td>\n",
       "      <td>1.000000</td>\n",
       "      <td>0.000000</td>\n",
       "      <td>31.500000</td>\n",
       "    </tr>\n",
       "    <tr>\n",
       "      <th>max</th>\n",
       "      <td>1309.000000</td>\n",
       "      <td>3.000000</td>\n",
       "      <td>76.000000</td>\n",
       "      <td>8.000000</td>\n",
       "      <td>9.000000</td>\n",
       "      <td>512.329200</td>\n",
       "    </tr>\n",
       "  </tbody>\n",
       "</table>\n",
       "</div>"
      ],
      "text/plain": [
       "       PassengerId      Pclass         Age       SibSp       Parch        Fare\n",
       "count   418.000000  418.000000  332.000000  418.000000  418.000000  417.000000\n",
       "mean   1100.500000    2.265550   30.272590    0.447368    0.392344   35.627188\n",
       "std     120.810458    0.841838   14.181209    0.896760    0.981429   55.907576\n",
       "min     892.000000    1.000000    0.170000    0.000000    0.000000    0.000000\n",
       "25%     996.250000    1.000000   21.000000    0.000000    0.000000    7.895800\n",
       "50%    1100.500000    3.000000   27.000000    0.000000    0.000000   14.454200\n",
       "75%    1204.750000    3.000000   39.000000    1.000000    0.000000   31.500000\n",
       "max    1309.000000    3.000000   76.000000    8.000000    9.000000  512.329200"
      ]
     },
     "execution_count": 10,
     "metadata": {},
     "output_type": "execute_result"
    }
   ],
   "source": [
    "df_test.describe()"
   ]
  },
  {
   "cell_type": "code",
   "execution_count": 11,
   "id": "b7a2d822",
   "metadata": {
    "execution": {
     "iopub.execute_input": "2023-03-07T06:27:35.155583Z",
     "iopub.status.busy": "2023-03-07T06:27:35.154354Z",
     "iopub.status.idle": "2023-03-07T06:27:35.163820Z",
     "shell.execute_reply": "2023-03-07T06:27:35.161827Z"
    },
    "id": "ZwZoOcgvK6DV",
    "papermill": {
     "duration": 0.029474,
     "end_time": "2023-03-07T06:27:35.167164",
     "exception": false,
     "start_time": "2023-03-07T06:27:35.137690",
     "status": "completed"
    },
    "tags": []
   },
   "outputs": [],
   "source": [
    "df_train.drop(['Name'],axis=1,inplace=True)"
   ]
  },
  {
   "cell_type": "code",
   "execution_count": 12,
   "id": "3320e623",
   "metadata": {
    "execution": {
     "iopub.execute_input": "2023-03-07T06:27:35.199222Z",
     "iopub.status.busy": "2023-03-07T06:27:35.198705Z",
     "iopub.status.idle": "2023-03-07T06:27:35.207003Z",
     "shell.execute_reply": "2023-03-07T06:27:35.204974Z"
    },
    "id": "GSA4Ik_5MEEe",
    "papermill": {
     "duration": 0.027885,
     "end_time": "2023-03-07T06:27:35.210785",
     "exception": false,
     "start_time": "2023-03-07T06:27:35.182900",
     "status": "completed"
    },
    "tags": []
   },
   "outputs": [],
   "source": [
    "df_test.drop(['Name'],axis=1,inplace=True)"
   ]
  },
  {
   "cell_type": "code",
   "execution_count": 13,
   "id": "7fa1f38d",
   "metadata": {
    "execution": {
     "iopub.execute_input": "2023-03-07T06:27:35.242320Z",
     "iopub.status.busy": "2023-03-07T06:27:35.241084Z",
     "iopub.status.idle": "2023-03-07T06:27:35.249462Z",
     "shell.execute_reply": "2023-03-07T06:27:35.248125Z"
    },
    "id": "j34wiqEhcPRs",
    "papermill": {
     "duration": 0.026935,
     "end_time": "2023-03-07T06:27:35.252513",
     "exception": false,
     "start_time": "2023-03-07T06:27:35.225578",
     "status": "completed"
    },
    "tags": []
   },
   "outputs": [],
   "source": [
    "df_train.drop(['Fare','Ticket','Cabin'],axis=1,inplace=True)"
   ]
  },
  {
   "cell_type": "code",
   "execution_count": 14,
   "id": "11b9db65",
   "metadata": {
    "execution": {
     "iopub.execute_input": "2023-03-07T06:27:35.283513Z",
     "iopub.status.busy": "2023-03-07T06:27:35.282911Z",
     "iopub.status.idle": "2023-03-07T06:27:35.290919Z",
     "shell.execute_reply": "2023-03-07T06:27:35.289599Z"
    },
    "id": "wKLZ1Nenc3-g",
    "papermill": {
     "duration": 0.027347,
     "end_time": "2023-03-07T06:27:35.293676",
     "exception": false,
     "start_time": "2023-03-07T06:27:35.266329",
     "status": "completed"
    },
    "tags": []
   },
   "outputs": [],
   "source": [
    "df_test.drop(['Fare','Ticket','Cabin'],axis=1,inplace=True)"
   ]
  },
  {
   "cell_type": "code",
   "execution_count": 15,
   "id": "f8a9f006",
   "metadata": {
    "execution": {
     "iopub.execute_input": "2023-03-07T06:27:35.324541Z",
     "iopub.status.busy": "2023-03-07T06:27:35.324095Z",
     "iopub.status.idle": "2023-03-07T06:27:35.339270Z",
     "shell.execute_reply": "2023-03-07T06:27:35.337918Z"
    },
    "id": "CbwXA2aqdNxY",
    "papermill": {
     "duration": 0.033851,
     "end_time": "2023-03-07T06:27:35.341856",
     "exception": false,
     "start_time": "2023-03-07T06:27:35.308005",
     "status": "completed"
    },
    "tags": []
   },
   "outputs": [
    {
     "data": {
      "text/html": [
       "<div>\n",
       "<style scoped>\n",
       "    .dataframe tbody tr th:only-of-type {\n",
       "        vertical-align: middle;\n",
       "    }\n",
       "\n",
       "    .dataframe tbody tr th {\n",
       "        vertical-align: top;\n",
       "    }\n",
       "\n",
       "    .dataframe thead th {\n",
       "        text-align: right;\n",
       "    }\n",
       "</style>\n",
       "<table border=\"1\" class=\"dataframe\">\n",
       "  <thead>\n",
       "    <tr style=\"text-align: right;\">\n",
       "      <th></th>\n",
       "      <th>PassengerId</th>\n",
       "      <th>Survived</th>\n",
       "      <th>Pclass</th>\n",
       "      <th>Sex</th>\n",
       "      <th>Age</th>\n",
       "      <th>SibSp</th>\n",
       "      <th>Parch</th>\n",
       "      <th>Embarked</th>\n",
       "    </tr>\n",
       "  </thead>\n",
       "  <tbody>\n",
       "    <tr>\n",
       "      <th>0</th>\n",
       "      <td>1</td>\n",
       "      <td>0</td>\n",
       "      <td>3</td>\n",
       "      <td>male</td>\n",
       "      <td>22.0</td>\n",
       "      <td>1</td>\n",
       "      <td>0</td>\n",
       "      <td>S</td>\n",
       "    </tr>\n",
       "  </tbody>\n",
       "</table>\n",
       "</div>"
      ],
      "text/plain": [
       "   PassengerId  Survived  Pclass   Sex   Age  SibSp  Parch Embarked\n",
       "0            1         0       3  male  22.0      1      0        S"
      ]
     },
     "execution_count": 15,
     "metadata": {},
     "output_type": "execute_result"
    }
   ],
   "source": [
    "df_train.head(1)"
   ]
  },
  {
   "cell_type": "code",
   "execution_count": 16,
   "id": "e1ba340a",
   "metadata": {
    "execution": {
     "iopub.execute_input": "2023-03-07T06:27:35.373486Z",
     "iopub.status.busy": "2023-03-07T06:27:35.373017Z",
     "iopub.status.idle": "2023-03-07T06:27:35.387310Z",
     "shell.execute_reply": "2023-03-07T06:27:35.385755Z"
    },
    "id": "GrWl1p2OdS-q",
    "papermill": {
     "duration": 0.033867,
     "end_time": "2023-03-07T06:27:35.390074",
     "exception": false,
     "start_time": "2023-03-07T06:27:35.356207",
     "status": "completed"
    },
    "tags": []
   },
   "outputs": [
    {
     "data": {
      "text/html": [
       "<div>\n",
       "<style scoped>\n",
       "    .dataframe tbody tr th:only-of-type {\n",
       "        vertical-align: middle;\n",
       "    }\n",
       "\n",
       "    .dataframe tbody tr th {\n",
       "        vertical-align: top;\n",
       "    }\n",
       "\n",
       "    .dataframe thead th {\n",
       "        text-align: right;\n",
       "    }\n",
       "</style>\n",
       "<table border=\"1\" class=\"dataframe\">\n",
       "  <thead>\n",
       "    <tr style=\"text-align: right;\">\n",
       "      <th></th>\n",
       "      <th>PassengerId</th>\n",
       "      <th>Pclass</th>\n",
       "      <th>Sex</th>\n",
       "      <th>Age</th>\n",
       "      <th>SibSp</th>\n",
       "      <th>Parch</th>\n",
       "      <th>Embarked</th>\n",
       "    </tr>\n",
       "  </thead>\n",
       "  <tbody>\n",
       "    <tr>\n",
       "      <th>0</th>\n",
       "      <td>892</td>\n",
       "      <td>3</td>\n",
       "      <td>male</td>\n",
       "      <td>34.5</td>\n",
       "      <td>0</td>\n",
       "      <td>0</td>\n",
       "      <td>Q</td>\n",
       "    </tr>\n",
       "  </tbody>\n",
       "</table>\n",
       "</div>"
      ],
      "text/plain": [
       "   PassengerId  Pclass   Sex   Age  SibSp  Parch Embarked\n",
       "0          892       3  male  34.5      0      0        Q"
      ]
     },
     "execution_count": 16,
     "metadata": {},
     "output_type": "execute_result"
    }
   ],
   "source": [
    "df_test.head(1)"
   ]
  },
  {
   "cell_type": "code",
   "execution_count": 17,
   "id": "c24767d4",
   "metadata": {
    "execution": {
     "iopub.execute_input": "2023-03-07T06:27:35.422599Z",
     "iopub.status.busy": "2023-03-07T06:27:35.422103Z",
     "iopub.status.idle": "2023-03-07T06:27:35.434742Z",
     "shell.execute_reply": "2023-03-07T06:27:35.433377Z"
    },
    "id": "-98Dor0fdwGD",
    "papermill": {
     "duration": 0.033013,
     "end_time": "2023-03-07T06:27:35.437747",
     "exception": false,
     "start_time": "2023-03-07T06:27:35.404734",
     "status": "completed"
    },
    "tags": []
   },
   "outputs": [
    {
     "data": {
      "text/plain": [
       "PassengerId      0\n",
       "Survived         0\n",
       "Pclass           0\n",
       "Sex              0\n",
       "Age            177\n",
       "SibSp            0\n",
       "Parch            0\n",
       "Embarked         2\n",
       "dtype: int64"
      ]
     },
     "execution_count": 17,
     "metadata": {},
     "output_type": "execute_result"
    }
   ],
   "source": [
    "df_train.isnull().sum()"
   ]
  },
  {
   "cell_type": "code",
   "execution_count": 18,
   "id": "12422a56",
   "metadata": {
    "execution": {
     "iopub.execute_input": "2023-03-07T06:27:35.469434Z",
     "iopub.status.busy": "2023-03-07T06:27:35.468546Z",
     "iopub.status.idle": "2023-03-07T06:27:35.476429Z",
     "shell.execute_reply": "2023-03-07T06:27:35.474751Z"
    },
    "id": "99YggsDrd9XI",
    "papermill": {
     "duration": 0.026683,
     "end_time": "2023-03-07T06:27:35.479262",
     "exception": false,
     "start_time": "2023-03-07T06:27:35.452579",
     "status": "completed"
    },
    "tags": []
   },
   "outputs": [],
   "source": [
    "mean=df_train['Age'].mean()\n",
    "df_train['Age']=df_train['Age'].fillna(value=mean)"
   ]
  },
  {
   "cell_type": "code",
   "execution_count": 19,
   "id": "e32bdf15",
   "metadata": {
    "execution": {
     "iopub.execute_input": "2023-03-07T06:27:35.512277Z",
     "iopub.status.busy": "2023-03-07T06:27:35.511146Z",
     "iopub.status.idle": "2023-03-07T06:27:35.520979Z",
     "shell.execute_reply": "2023-03-07T06:27:35.519871Z"
    },
    "id": "2qdOv21JfdUd",
    "papermill": {
     "duration": 0.029287,
     "end_time": "2023-03-07T06:27:35.523653",
     "exception": false,
     "start_time": "2023-03-07T06:27:35.494366",
     "status": "completed"
    },
    "tags": []
   },
   "outputs": [],
   "source": [
    "df_train['Embarked'].fillna(method='ffill',limit=1,inplace=True)"
   ]
  },
  {
   "cell_type": "code",
   "execution_count": 20,
   "id": "784576da",
   "metadata": {
    "execution": {
     "iopub.execute_input": "2023-03-07T06:27:35.554091Z",
     "iopub.status.busy": "2023-03-07T06:27:35.553614Z",
     "iopub.status.idle": "2023-03-07T06:27:35.565303Z",
     "shell.execute_reply": "2023-03-07T06:27:35.563917Z"
    },
    "id": "NEk0-Apce5fD",
    "papermill": {
     "duration": 0.031005,
     "end_time": "2023-03-07T06:27:35.568803",
     "exception": false,
     "start_time": "2023-03-07T06:27:35.537798",
     "status": "completed"
    },
    "tags": []
   },
   "outputs": [
    {
     "data": {
      "text/plain": [
       "PassengerId    0\n",
       "Survived       0\n",
       "Pclass         0\n",
       "Sex            0\n",
       "Age            0\n",
       "SibSp          0\n",
       "Parch          0\n",
       "Embarked       0\n",
       "dtype: int64"
      ]
     },
     "execution_count": 20,
     "metadata": {},
     "output_type": "execute_result"
    }
   ],
   "source": [
    "df_train.isnull().sum()"
   ]
  },
  {
   "cell_type": "code",
   "execution_count": 21,
   "id": "0cdd1a2f",
   "metadata": {
    "execution": {
     "iopub.execute_input": "2023-03-07T06:27:35.600381Z",
     "iopub.status.busy": "2023-03-07T06:27:35.599870Z",
     "iopub.status.idle": "2023-03-07T06:27:35.607162Z",
     "shell.execute_reply": "2023-03-07T06:27:35.605776Z"
    },
    "id": "cDBtx0BygIA5",
    "papermill": {
     "duration": 0.026056,
     "end_time": "2023-03-07T06:27:35.609833",
     "exception": false,
     "start_time": "2023-03-07T06:27:35.583777",
     "status": "completed"
    },
    "tags": []
   },
   "outputs": [],
   "source": [
    "mean=df_test['Age'].mean()\n",
    "df_test['Age']=df_test['Age'].fillna(value=mean)"
   ]
  },
  {
   "cell_type": "code",
   "execution_count": 22,
   "id": "170aa6e1",
   "metadata": {
    "execution": {
     "iopub.execute_input": "2023-03-07T06:27:35.641578Z",
     "iopub.status.busy": "2023-03-07T06:27:35.640459Z",
     "iopub.status.idle": "2023-03-07T06:27:35.651515Z",
     "shell.execute_reply": "2023-03-07T06:27:35.650125Z"
    },
    "id": "fBjtE983gAC6",
    "papermill": {
     "duration": 0.029896,
     "end_time": "2023-03-07T06:27:35.654466",
     "exception": false,
     "start_time": "2023-03-07T06:27:35.624570",
     "status": "completed"
    },
    "tags": []
   },
   "outputs": [
    {
     "data": {
      "text/plain": [
       "PassengerId    0\n",
       "Pclass         0\n",
       "Sex            0\n",
       "Age            0\n",
       "SibSp          0\n",
       "Parch          0\n",
       "Embarked       0\n",
       "dtype: int64"
      ]
     },
     "execution_count": 22,
     "metadata": {},
     "output_type": "execute_result"
    }
   ],
   "source": [
    "df_test.isnull().sum()"
   ]
  },
  {
   "cell_type": "code",
   "execution_count": 23,
   "id": "89ff226d",
   "metadata": {
    "execution": {
     "iopub.execute_input": "2023-03-07T06:27:35.685924Z",
     "iopub.status.busy": "2023-03-07T06:27:35.685486Z",
     "iopub.status.idle": "2023-03-07T06:27:35.695606Z",
     "shell.execute_reply": "2023-03-07T06:27:35.693818Z"
    },
    "id": "QMC7c8o1dXYr",
    "papermill": {
     "duration": 0.029828,
     "end_time": "2023-03-07T06:27:35.699271",
     "exception": false,
     "start_time": "2023-03-07T06:27:35.669443",
     "status": "completed"
    },
    "tags": []
   },
   "outputs": [
    {
     "data": {
      "text/plain": [
       "array(['male', 'female'], dtype=object)"
      ]
     },
     "execution_count": 23,
     "metadata": {},
     "output_type": "execute_result"
    }
   ],
   "source": [
    "df_train['Sex'].unique()"
   ]
  },
  {
   "cell_type": "code",
   "execution_count": 24,
   "id": "0c145763",
   "metadata": {
    "execution": {
     "iopub.execute_input": "2023-03-07T06:27:35.731192Z",
     "iopub.status.busy": "2023-03-07T06:27:35.730757Z",
     "iopub.status.idle": "2023-03-07T06:27:35.741686Z",
     "shell.execute_reply": "2023-03-07T06:27:35.739405Z"
    },
    "id": "iFM5MviadnFm",
    "papermill": {
     "duration": 0.031135,
     "end_time": "2023-03-07T06:27:35.745686",
     "exception": false,
     "start_time": "2023-03-07T06:27:35.714551",
     "status": "completed"
    },
    "tags": []
   },
   "outputs": [
    {
     "data": {
      "text/plain": [
       "array(['S', 'C', 'Q'], dtype=object)"
      ]
     },
     "execution_count": 24,
     "metadata": {},
     "output_type": "execute_result"
    }
   ],
   "source": [
    "df_train['Embarked'].unique()"
   ]
  },
  {
   "cell_type": "code",
   "execution_count": 25,
   "id": "77edd7be",
   "metadata": {
    "execution": {
     "iopub.execute_input": "2023-03-07T06:27:35.778697Z",
     "iopub.status.busy": "2023-03-07T06:27:35.778234Z",
     "iopub.status.idle": "2023-03-07T06:27:35.794971Z",
     "shell.execute_reply": "2023-03-07T06:27:35.793095Z"
    },
    "id": "SyFOnJxYgUMW",
    "papermill": {
     "duration": 0.036581,
     "end_time": "2023-03-07T06:27:35.797915",
     "exception": false,
     "start_time": "2023-03-07T06:27:35.761334",
     "status": "completed"
    },
    "tags": []
   },
   "outputs": [
    {
     "data": {
      "text/html": [
       "<div>\n",
       "<style scoped>\n",
       "    .dataframe tbody tr th:only-of-type {\n",
       "        vertical-align: middle;\n",
       "    }\n",
       "\n",
       "    .dataframe tbody tr th {\n",
       "        vertical-align: top;\n",
       "    }\n",
       "\n",
       "    .dataframe thead th {\n",
       "        text-align: right;\n",
       "    }\n",
       "</style>\n",
       "<table border=\"1\" class=\"dataframe\">\n",
       "  <thead>\n",
       "    <tr style=\"text-align: right;\">\n",
       "      <th></th>\n",
       "      <th>female</th>\n",
       "      <th>male</th>\n",
       "    </tr>\n",
       "  </thead>\n",
       "  <tbody>\n",
       "    <tr>\n",
       "      <th>0</th>\n",
       "      <td>0</td>\n",
       "      <td>1</td>\n",
       "    </tr>\n",
       "    <tr>\n",
       "      <th>1</th>\n",
       "      <td>1</td>\n",
       "      <td>0</td>\n",
       "    </tr>\n",
       "    <tr>\n",
       "      <th>2</th>\n",
       "      <td>1</td>\n",
       "      <td>0</td>\n",
       "    </tr>\n",
       "  </tbody>\n",
       "</table>\n",
       "</div>"
      ],
      "text/plain": [
       "   female  male\n",
       "0       0     1\n",
       "1       1     0\n",
       "2       1     0"
      ]
     },
     "execution_count": 25,
     "metadata": {},
     "output_type": "execute_result"
    }
   ],
   "source": [
    "sex=df_train.Sex\n",
    "dum=pd.get_dummies(sex)\n",
    "dum.head(3)"
   ]
  },
  {
   "cell_type": "code",
   "execution_count": 26,
   "id": "70e474bc",
   "metadata": {
    "execution": {
     "iopub.execute_input": "2023-03-07T06:27:35.830241Z",
     "iopub.status.busy": "2023-03-07T06:27:35.829729Z",
     "iopub.status.idle": "2023-03-07T06:27:35.837833Z",
     "shell.execute_reply": "2023-03-07T06:27:35.836239Z"
    },
    "id": "0C01Hx03jQML",
    "papermill": {
     "duration": 0.02781,
     "end_time": "2023-03-07T06:27:35.840634",
     "exception": false,
     "start_time": "2023-03-07T06:27:35.812824",
     "status": "completed"
    },
    "tags": []
   },
   "outputs": [],
   "source": [
    "df_train=pd.concat([dum,df_train],axis=1)"
   ]
  },
  {
   "cell_type": "code",
   "execution_count": 27,
   "id": "8cd1f13b",
   "metadata": {
    "execution": {
     "iopub.execute_input": "2023-03-07T06:27:35.874882Z",
     "iopub.status.busy": "2023-03-07T06:27:35.874438Z",
     "iopub.status.idle": "2023-03-07T06:27:35.882796Z",
     "shell.execute_reply": "2023-03-07T06:27:35.881122Z"
    },
    "id": "43y_sweSjlyw",
    "papermill": {
     "duration": 0.028463,
     "end_time": "2023-03-07T06:27:35.886059",
     "exception": false,
     "start_time": "2023-03-07T06:27:35.857596",
     "status": "completed"
    },
    "tags": []
   },
   "outputs": [],
   "source": [
    "df_train.drop(['Sex'],axis=1,inplace=True)"
   ]
  },
  {
   "cell_type": "code",
   "execution_count": 28,
   "id": "55bcce64",
   "metadata": {
    "execution": {
     "iopub.execute_input": "2023-03-07T06:27:35.919014Z",
     "iopub.status.busy": "2023-03-07T06:27:35.918054Z",
     "iopub.status.idle": "2023-03-07T06:27:35.926751Z",
     "shell.execute_reply": "2023-03-07T06:27:35.925291Z"
    },
    "id": "H59Itb0RlP2s",
    "papermill": {
     "duration": 0.027943,
     "end_time": "2023-03-07T06:27:35.929616",
     "exception": false,
     "start_time": "2023-03-07T06:27:35.901673",
     "status": "completed"
    },
    "tags": []
   },
   "outputs": [],
   "source": [
    "df_train['Embarked'].replace(['S','C','Q'],[0,1,2],inplace=True)"
   ]
  },
  {
   "cell_type": "code",
   "execution_count": 29,
   "id": "dc3371ab",
   "metadata": {
    "execution": {
     "iopub.execute_input": "2023-03-07T06:27:35.961893Z",
     "iopub.status.busy": "2023-03-07T06:27:35.960796Z",
     "iopub.status.idle": "2023-03-07T06:27:35.977318Z",
     "shell.execute_reply": "2023-03-07T06:27:35.975909Z"
    },
    "id": "y0G982zAiO_S",
    "papermill": {
     "duration": 0.035677,
     "end_time": "2023-03-07T06:27:35.980031",
     "exception": false,
     "start_time": "2023-03-07T06:27:35.944354",
     "status": "completed"
    },
    "tags": []
   },
   "outputs": [
    {
     "data": {
      "text/html": [
       "<div>\n",
       "<style scoped>\n",
       "    .dataframe tbody tr th:only-of-type {\n",
       "        vertical-align: middle;\n",
       "    }\n",
       "\n",
       "    .dataframe tbody tr th {\n",
       "        vertical-align: top;\n",
       "    }\n",
       "\n",
       "    .dataframe thead th {\n",
       "        text-align: right;\n",
       "    }\n",
       "</style>\n",
       "<table border=\"1\" class=\"dataframe\">\n",
       "  <thead>\n",
       "    <tr style=\"text-align: right;\">\n",
       "      <th></th>\n",
       "      <th>female</th>\n",
       "      <th>male</th>\n",
       "      <th>PassengerId</th>\n",
       "      <th>Survived</th>\n",
       "      <th>Pclass</th>\n",
       "      <th>Age</th>\n",
       "      <th>SibSp</th>\n",
       "      <th>Parch</th>\n",
       "      <th>Embarked</th>\n",
       "    </tr>\n",
       "  </thead>\n",
       "  <tbody>\n",
       "    <tr>\n",
       "      <th>0</th>\n",
       "      <td>0</td>\n",
       "      <td>1</td>\n",
       "      <td>1</td>\n",
       "      <td>0</td>\n",
       "      <td>3</td>\n",
       "      <td>22.0</td>\n",
       "      <td>1</td>\n",
       "      <td>0</td>\n",
       "      <td>0</td>\n",
       "    </tr>\n",
       "    <tr>\n",
       "      <th>1</th>\n",
       "      <td>1</td>\n",
       "      <td>0</td>\n",
       "      <td>2</td>\n",
       "      <td>1</td>\n",
       "      <td>1</td>\n",
       "      <td>38.0</td>\n",
       "      <td>1</td>\n",
       "      <td>0</td>\n",
       "      <td>1</td>\n",
       "    </tr>\n",
       "    <tr>\n",
       "      <th>2</th>\n",
       "      <td>1</td>\n",
       "      <td>0</td>\n",
       "      <td>3</td>\n",
       "      <td>1</td>\n",
       "      <td>3</td>\n",
       "      <td>26.0</td>\n",
       "      <td>0</td>\n",
       "      <td>0</td>\n",
       "      <td>0</td>\n",
       "    </tr>\n",
       "    <tr>\n",
       "      <th>3</th>\n",
       "      <td>1</td>\n",
       "      <td>0</td>\n",
       "      <td>4</td>\n",
       "      <td>1</td>\n",
       "      <td>1</td>\n",
       "      <td>35.0</td>\n",
       "      <td>1</td>\n",
       "      <td>0</td>\n",
       "      <td>0</td>\n",
       "    </tr>\n",
       "    <tr>\n",
       "      <th>4</th>\n",
       "      <td>0</td>\n",
       "      <td>1</td>\n",
       "      <td>5</td>\n",
       "      <td>0</td>\n",
       "      <td>3</td>\n",
       "      <td>35.0</td>\n",
       "      <td>0</td>\n",
       "      <td>0</td>\n",
       "      <td>0</td>\n",
       "    </tr>\n",
       "  </tbody>\n",
       "</table>\n",
       "</div>"
      ],
      "text/plain": [
       "   female  male  PassengerId  Survived  Pclass   Age  SibSp  Parch  Embarked\n",
       "0       0     1            1         0       3  22.0      1      0         0\n",
       "1       1     0            2         1       1  38.0      1      0         1\n",
       "2       1     0            3         1       3  26.0      0      0         0\n",
       "3       1     0            4         1       1  35.0      1      0         0\n",
       "4       0     1            5         0       3  35.0      0      0         0"
      ]
     },
     "execution_count": 29,
     "metadata": {},
     "output_type": "execute_result"
    }
   ],
   "source": [
    "df_train.head(5)"
   ]
  },
  {
   "cell_type": "code",
   "execution_count": 30,
   "id": "29423e17",
   "metadata": {
    "execution": {
     "iopub.execute_input": "2023-03-07T06:27:36.014827Z",
     "iopub.status.busy": "2023-03-07T06:27:36.014298Z",
     "iopub.status.idle": "2023-03-07T06:27:36.027959Z",
     "shell.execute_reply": "2023-03-07T06:27:36.026919Z"
    },
    "id": "t8WJG2P4lmQ1",
    "papermill": {
     "duration": 0.03518,
     "end_time": "2023-03-07T06:27:36.030773",
     "exception": false,
     "start_time": "2023-03-07T06:27:35.995593",
     "status": "completed"
    },
    "tags": []
   },
   "outputs": [
    {
     "data": {
      "text/html": [
       "<div>\n",
       "<style scoped>\n",
       "    .dataframe tbody tr th:only-of-type {\n",
       "        vertical-align: middle;\n",
       "    }\n",
       "\n",
       "    .dataframe tbody tr th {\n",
       "        vertical-align: top;\n",
       "    }\n",
       "\n",
       "    .dataframe thead th {\n",
       "        text-align: right;\n",
       "    }\n",
       "</style>\n",
       "<table border=\"1\" class=\"dataframe\">\n",
       "  <thead>\n",
       "    <tr style=\"text-align: right;\">\n",
       "      <th></th>\n",
       "      <th>female</th>\n",
       "      <th>male</th>\n",
       "    </tr>\n",
       "  </thead>\n",
       "  <tbody>\n",
       "    <tr>\n",
       "      <th>0</th>\n",
       "      <td>0</td>\n",
       "      <td>1</td>\n",
       "    </tr>\n",
       "    <tr>\n",
       "      <th>1</th>\n",
       "      <td>1</td>\n",
       "      <td>0</td>\n",
       "    </tr>\n",
       "    <tr>\n",
       "      <th>2</th>\n",
       "      <td>0</td>\n",
       "      <td>1</td>\n",
       "    </tr>\n",
       "  </tbody>\n",
       "</table>\n",
       "</div>"
      ],
      "text/plain": [
       "   female  male\n",
       "0       0     1\n",
       "1       1     0\n",
       "2       0     1"
      ]
     },
     "execution_count": 30,
     "metadata": {},
     "output_type": "execute_result"
    }
   ],
   "source": [
    "sex=df_test.Sex\n",
    "dum=pd.get_dummies(sex)\n",
    "dum.head(3)"
   ]
  },
  {
   "cell_type": "code",
   "execution_count": 31,
   "id": "abfaa9ae",
   "metadata": {
    "execution": {
     "iopub.execute_input": "2023-03-07T06:27:36.064420Z",
     "iopub.status.busy": "2023-03-07T06:27:36.063909Z",
     "iopub.status.idle": "2023-03-07T06:27:36.071219Z",
     "shell.execute_reply": "2023-03-07T06:27:36.069878Z"
    },
    "id": "qAQToCvdlqBd",
    "papermill": {
     "duration": 0.027934,
     "end_time": "2023-03-07T06:27:36.073767",
     "exception": false,
     "start_time": "2023-03-07T06:27:36.045833",
     "status": "completed"
    },
    "tags": []
   },
   "outputs": [],
   "source": [
    "df_test=pd.concat([dum,df_test],axis=1)"
   ]
  },
  {
   "cell_type": "code",
   "execution_count": 32,
   "id": "906c33e2",
   "metadata": {
    "execution": {
     "iopub.execute_input": "2023-03-07T06:27:36.107071Z",
     "iopub.status.busy": "2023-03-07T06:27:36.106628Z",
     "iopub.status.idle": "2023-03-07T06:27:36.114557Z",
     "shell.execute_reply": "2023-03-07T06:27:36.113193Z"
    },
    "id": "ccElsOz-lzHh",
    "papermill": {
     "duration": 0.028111,
     "end_time": "2023-03-07T06:27:36.117626",
     "exception": false,
     "start_time": "2023-03-07T06:27:36.089515",
     "status": "completed"
    },
    "tags": []
   },
   "outputs": [],
   "source": [
    "df_test.drop(['Sex'],axis=1,inplace=True)"
   ]
  },
  {
   "cell_type": "code",
   "execution_count": 33,
   "id": "59c9b566",
   "metadata": {
    "execution": {
     "iopub.execute_input": "2023-03-07T06:27:36.150779Z",
     "iopub.status.busy": "2023-03-07T06:27:36.150332Z",
     "iopub.status.idle": "2023-03-07T06:27:36.158678Z",
     "shell.execute_reply": "2023-03-07T06:27:36.157159Z"
    },
    "id": "bN4PSQqjmCZg",
    "papermill": {
     "duration": 0.028359,
     "end_time": "2023-03-07T06:27:36.161704",
     "exception": false,
     "start_time": "2023-03-07T06:27:36.133345",
     "status": "completed"
    },
    "tags": []
   },
   "outputs": [],
   "source": [
    "df_test['Embarked'].replace(['S','C','Q'],[0,1,2],inplace=True)"
   ]
  },
  {
   "cell_type": "code",
   "execution_count": 34,
   "id": "ffaf3d9f",
   "metadata": {
    "execution": {
     "iopub.execute_input": "2023-03-07T06:27:36.196544Z",
     "iopub.status.busy": "2023-03-07T06:27:36.195009Z",
     "iopub.status.idle": "2023-03-07T06:27:36.211157Z",
     "shell.execute_reply": "2023-03-07T06:27:36.209667Z"
    },
    "id": "Ws5oJdGGmD5L",
    "papermill": {
     "duration": 0.036016,
     "end_time": "2023-03-07T06:27:36.213704",
     "exception": false,
     "start_time": "2023-03-07T06:27:36.177688",
     "status": "completed"
    },
    "tags": []
   },
   "outputs": [
    {
     "data": {
      "text/html": [
       "<div>\n",
       "<style scoped>\n",
       "    .dataframe tbody tr th:only-of-type {\n",
       "        vertical-align: middle;\n",
       "    }\n",
       "\n",
       "    .dataframe tbody tr th {\n",
       "        vertical-align: top;\n",
       "    }\n",
       "\n",
       "    .dataframe thead th {\n",
       "        text-align: right;\n",
       "    }\n",
       "</style>\n",
       "<table border=\"1\" class=\"dataframe\">\n",
       "  <thead>\n",
       "    <tr style=\"text-align: right;\">\n",
       "      <th></th>\n",
       "      <th>female</th>\n",
       "      <th>male</th>\n",
       "      <th>PassengerId</th>\n",
       "      <th>Pclass</th>\n",
       "      <th>Age</th>\n",
       "      <th>SibSp</th>\n",
       "      <th>Parch</th>\n",
       "      <th>Embarked</th>\n",
       "    </tr>\n",
       "  </thead>\n",
       "  <tbody>\n",
       "    <tr>\n",
       "      <th>0</th>\n",
       "      <td>0</td>\n",
       "      <td>1</td>\n",
       "      <td>892</td>\n",
       "      <td>3</td>\n",
       "      <td>34.5</td>\n",
       "      <td>0</td>\n",
       "      <td>0</td>\n",
       "      <td>2</td>\n",
       "    </tr>\n",
       "    <tr>\n",
       "      <th>1</th>\n",
       "      <td>1</td>\n",
       "      <td>0</td>\n",
       "      <td>893</td>\n",
       "      <td>3</td>\n",
       "      <td>47.0</td>\n",
       "      <td>1</td>\n",
       "      <td>0</td>\n",
       "      <td>0</td>\n",
       "    </tr>\n",
       "    <tr>\n",
       "      <th>2</th>\n",
       "      <td>0</td>\n",
       "      <td>1</td>\n",
       "      <td>894</td>\n",
       "      <td>2</td>\n",
       "      <td>62.0</td>\n",
       "      <td>0</td>\n",
       "      <td>0</td>\n",
       "      <td>2</td>\n",
       "    </tr>\n",
       "  </tbody>\n",
       "</table>\n",
       "</div>"
      ],
      "text/plain": [
       "   female  male  PassengerId  Pclass   Age  SibSp  Parch  Embarked\n",
       "0       0     1          892       3  34.5      0      0         2\n",
       "1       1     0          893       3  47.0      1      0         0\n",
       "2       0     1          894       2  62.0      0      0         2"
      ]
     },
     "execution_count": 34,
     "metadata": {},
     "output_type": "execute_result"
    }
   ],
   "source": [
    "df_test.head(3)"
   ]
  },
  {
   "cell_type": "code",
   "execution_count": 35,
   "id": "525e3afd",
   "metadata": {
    "execution": {
     "iopub.execute_input": "2023-03-07T06:27:36.246309Z",
     "iopub.status.busy": "2023-03-07T06:27:36.245846Z",
     "iopub.status.idle": "2023-03-07T06:27:36.257510Z",
     "shell.execute_reply": "2023-03-07T06:27:36.256221Z"
    },
    "id": "5mG_YjzFmJva",
    "papermill": {
     "duration": 0.032134,
     "end_time": "2023-03-07T06:27:36.261166",
     "exception": false,
     "start_time": "2023-03-07T06:27:36.229032",
     "status": "completed"
    },
    "tags": []
   },
   "outputs": [
    {
     "data": {
      "text/plain": [
       "female         0.618921\n",
       "male          -0.618921\n",
       "PassengerId    0.000000\n",
       "Survived       0.478523\n",
       "Pclass        -0.630548\n",
       "Age            0.434488\n",
       "SibSp          3.695352\n",
       "Parch          2.749117\n",
       "Embarked       1.530148\n",
       "dtype: float64"
      ]
     },
     "execution_count": 35,
     "metadata": {},
     "output_type": "execute_result"
    }
   ],
   "source": [
    "df_train.skew()"
   ]
  },
  {
   "cell_type": "code",
   "execution_count": 36,
   "id": "e4d1089c",
   "metadata": {
    "execution": {
     "iopub.execute_input": "2023-03-07T06:27:36.297409Z",
     "iopub.status.busy": "2023-03-07T06:27:36.296075Z",
     "iopub.status.idle": "2023-03-07T06:27:36.305999Z",
     "shell.execute_reply": "2023-03-07T06:27:36.304666Z"
    },
    "id": "iyeW2uWEpNUu",
    "papermill": {
     "duration": 0.031029,
     "end_time": "2023-03-07T06:27:36.308577",
     "exception": false,
     "start_time": "2023-03-07T06:27:36.277548",
     "status": "completed"
    },
    "tags": []
   },
   "outputs": [
    {
     "data": {
      "text/plain": [
       "1.436526474694446"
      ]
     },
     "execution_count": 36,
     "metadata": {},
     "output_type": "execute_result"
    }
   ],
   "source": [
    "df_train['SibSp']=np.sqrt(df_train['SibSp'])\n",
    "df_train['SibSp'].skew()"
   ]
  },
  {
   "cell_type": "code",
   "execution_count": 37,
   "id": "01ee72c3",
   "metadata": {
    "execution": {
     "iopub.execute_input": "2023-03-07T06:27:36.344277Z",
     "iopub.status.busy": "2023-03-07T06:27:36.343063Z",
     "iopub.status.idle": "2023-03-07T06:27:36.352190Z",
     "shell.execute_reply": "2023-03-07T06:27:36.350580Z"
    },
    "id": "eJzbSh9FpNs-",
    "papermill": {
     "duration": 0.030363,
     "end_time": "2023-03-07T06:27:36.355195",
     "exception": false,
     "start_time": "2023-03-07T06:27:36.324832",
     "status": "completed"
    },
    "tags": []
   },
   "outputs": [],
   "source": [
    "quantile1=df_train['Parch'].quantile(0.25)\n",
    "quantile2=df_train['Parch'].quantile(0.75)"
   ]
  },
  {
   "cell_type": "code",
   "execution_count": 38,
   "id": "da42dc93",
   "metadata": {
    "execution": {
     "iopub.execute_input": "2023-03-07T06:27:36.391132Z",
     "iopub.status.busy": "2023-03-07T06:27:36.390606Z",
     "iopub.status.idle": "2023-03-07T06:27:36.398848Z",
     "shell.execute_reply": "2023-03-07T06:27:36.397349Z"
    },
    "id": "cdyJJ2DirHT7",
    "papermill": {
     "duration": 0.029604,
     "end_time": "2023-03-07T06:27:36.401524",
     "exception": false,
     "start_time": "2023-03-07T06:27:36.371920",
     "status": "completed"
    },
    "tags": []
   },
   "outputs": [],
   "source": [
    "df_train['Parch']=np.where(df_train['Parch']<quantile1,quantile1,df_train['Parch'])\n",
    "df_train['Parch']=np.where(df_train['Parch']>quantile1,quantile1,df_train['Parch'])"
   ]
  },
  {
   "cell_type": "code",
   "execution_count": 39,
   "id": "1bbbc992",
   "metadata": {
    "execution": {
     "iopub.execute_input": "2023-03-07T06:27:36.438896Z",
     "iopub.status.busy": "2023-03-07T06:27:36.437633Z",
     "iopub.status.idle": "2023-03-07T06:27:36.446687Z",
     "shell.execute_reply": "2023-03-07T06:27:36.445276Z"
    },
    "id": "y9zRQ0carHW5",
    "papermill": {
     "duration": 0.030728,
     "end_time": "2023-03-07T06:27:36.449319",
     "exception": false,
     "start_time": "2023-03-07T06:27:36.418591",
     "status": "completed"
    },
    "tags": []
   },
   "outputs": [
    {
     "data": {
      "text/plain": [
       "0"
      ]
     },
     "execution_count": 39,
     "metadata": {},
     "output_type": "execute_result"
    }
   ],
   "source": [
    "df_train['Parch'].skew()"
   ]
  },
  {
   "cell_type": "code",
   "execution_count": 40,
   "id": "4b081037",
   "metadata": {
    "execution": {
     "iopub.execute_input": "2023-03-07T06:27:36.485489Z",
     "iopub.status.busy": "2023-03-07T06:27:36.484791Z",
     "iopub.status.idle": "2023-03-07T06:27:36.494556Z",
     "shell.execute_reply": "2023-03-07T06:27:36.493201Z"
    },
    "id": "LngIcrUNtMj-",
    "papermill": {
     "duration": 0.031454,
     "end_time": "2023-03-07T06:27:36.497545",
     "exception": false,
     "start_time": "2023-03-07T06:27:36.466091",
     "status": "completed"
    },
    "tags": []
   },
   "outputs": [],
   "source": [
    "quantile1=df_train['Embarked'].quantile(0.25)\n",
    "quantile2=df_train['Embarked'].quantile(0.75)"
   ]
  },
  {
   "cell_type": "code",
   "execution_count": 41,
   "id": "849ebdb8",
   "metadata": {
    "execution": {
     "iopub.execute_input": "2023-03-07T06:27:36.531068Z",
     "iopub.status.busy": "2023-03-07T06:27:36.530614Z",
     "iopub.status.idle": "2023-03-07T06:27:36.539243Z",
     "shell.execute_reply": "2023-03-07T06:27:36.537814Z"
    },
    "id": "e0eIZ--CtMrz",
    "papermill": {
     "duration": 0.02892,
     "end_time": "2023-03-07T06:27:36.542170",
     "exception": false,
     "start_time": "2023-03-07T06:27:36.513250",
     "status": "completed"
    },
    "tags": []
   },
   "outputs": [],
   "source": [
    "df_train['Embarked']=np.where(df_train['Parch']<quantile1,quantile1,df_train['Embarked'])\n",
    "df_train['Embarked']=np.where(df_train['Parch']>quantile1,quantile1,df_train['Embarked'])"
   ]
  },
  {
   "cell_type": "code",
   "execution_count": 42,
   "id": "2d2cc88f",
   "metadata": {
    "execution": {
     "iopub.execute_input": "2023-03-07T06:27:36.577326Z",
     "iopub.status.busy": "2023-03-07T06:27:36.576856Z",
     "iopub.status.idle": "2023-03-07T06:27:36.586011Z",
     "shell.execute_reply": "2023-03-07T06:27:36.584537Z"
    },
    "id": "zkQj0Vo6tM1c",
    "papermill": {
     "duration": 0.030068,
     "end_time": "2023-03-07T06:27:36.588885",
     "exception": false,
     "start_time": "2023-03-07T06:27:36.558817",
     "status": "completed"
    },
    "tags": []
   },
   "outputs": [
    {
     "data": {
      "text/plain": [
       "1.5301478188887327"
      ]
     },
     "execution_count": 42,
     "metadata": {},
     "output_type": "execute_result"
    }
   ],
   "source": [
    "df_train['Embarked'].skew()"
   ]
  },
  {
   "cell_type": "code",
   "execution_count": 43,
   "id": "8b3e845f",
   "metadata": {
    "execution": {
     "iopub.execute_input": "2023-03-07T06:27:36.623413Z",
     "iopub.status.busy": "2023-03-07T06:27:36.622926Z",
     "iopub.status.idle": "2023-03-07T06:27:36.635059Z",
     "shell.execute_reply": "2023-03-07T06:27:36.633699Z"
    },
    "id": "eIqlX7WUrGUR",
    "papermill": {
     "duration": 0.033171,
     "end_time": "2023-03-07T06:27:36.637998",
     "exception": false,
     "start_time": "2023-03-07T06:27:36.604827",
     "status": "completed"
    },
    "tags": []
   },
   "outputs": [
    {
     "name": "stderr",
     "output_type": "stream",
     "text": [
      "/opt/conda/lib/python3.7/site-packages/pandas/core/arraylike.py:364: RuntimeWarning: divide by zero encountered in log\n",
      "  result = getattr(ufunc, method)(*inputs, **kwargs)\n"
     ]
    },
    {
     "data": {
      "text/plain": [
       "nan"
      ]
     },
     "execution_count": 43,
     "metadata": {},
     "output_type": "execute_result"
    }
   ],
   "source": [
    "df_train['Embarked']=np.log(df_train['Embarked'])\n",
    "df_train['Embarked'].skew()"
   ]
  },
  {
   "cell_type": "code",
   "execution_count": 44,
   "id": "a25cd0da",
   "metadata": {
    "execution": {
     "iopub.execute_input": "2023-03-07T06:27:36.675000Z",
     "iopub.status.busy": "2023-03-07T06:27:36.674540Z",
     "iopub.status.idle": "2023-03-07T06:27:36.685569Z",
     "shell.execute_reply": "2023-03-07T06:27:36.684581Z"
    },
    "id": "3xKWGRZmonXu",
    "papermill": {
     "duration": 0.033012,
     "end_time": "2023-03-07T06:27:36.688097",
     "exception": false,
     "start_time": "2023-03-07T06:27:36.655085",
     "status": "completed"
    },
    "tags": []
   },
   "outputs": [
    {
     "data": {
      "text/plain": [
       "female         0.568991\n",
       "male          -0.568991\n",
       "PassengerId    0.000000\n",
       "Pclass        -0.534170\n",
       "Age            0.512711\n",
       "SibSp          4.168337\n",
       "Parch          4.654462\n",
       "Embarked       1.162115\n",
       "dtype: float64"
      ]
     },
     "execution_count": 44,
     "metadata": {},
     "output_type": "execute_result"
    }
   ],
   "source": [
    "df_test.skew()"
   ]
  },
  {
   "cell_type": "code",
   "execution_count": 45,
   "id": "047bbbf3",
   "metadata": {
    "execution": {
     "iopub.execute_input": "2023-03-07T06:27:36.723989Z",
     "iopub.status.busy": "2023-03-07T06:27:36.722935Z",
     "iopub.status.idle": "2023-03-07T06:27:36.732975Z",
     "shell.execute_reply": "2023-03-07T06:27:36.731543Z"
    },
    "id": "kD1ehxStoqWx",
    "papermill": {
     "duration": 0.031009,
     "end_time": "2023-03-07T06:27:36.735580",
     "exception": false,
     "start_time": "2023-03-07T06:27:36.704571",
     "status": "completed"
    },
    "tags": []
   },
   "outputs": [
    {
     "data": {
      "text/plain": [
       "1.291589637233114"
      ]
     },
     "execution_count": 45,
     "metadata": {},
     "output_type": "execute_result"
    }
   ],
   "source": [
    "df_test['SibSp']=np.sqrt(df_test['SibSp'])\n",
    "df_test['SibSp'].skew()"
   ]
  },
  {
   "cell_type": "code",
   "execution_count": 46,
   "id": "85743818",
   "metadata": {
    "execution": {
     "iopub.execute_input": "2023-03-07T06:27:36.770504Z",
     "iopub.status.busy": "2023-03-07T06:27:36.769628Z",
     "iopub.status.idle": "2023-03-07T06:27:36.779944Z",
     "shell.execute_reply": "2023-03-07T06:27:36.778484Z"
    },
    "id": "vXok7X4apVW2",
    "papermill": {
     "duration": 0.031158,
     "end_time": "2023-03-07T06:27:36.783008",
     "exception": false,
     "start_time": "2023-03-07T06:27:36.751850",
     "status": "completed"
    },
    "tags": []
   },
   "outputs": [],
   "source": [
    "quantile1=df_test['Parch'].quantile(0.25)\n",
    "quantile2=df_test['Parch'].quantile(0.75)"
   ]
  },
  {
   "cell_type": "code",
   "execution_count": 47,
   "id": "849ad7d8",
   "metadata": {
    "execution": {
     "iopub.execute_input": "2023-03-07T06:27:36.819514Z",
     "iopub.status.busy": "2023-03-07T06:27:36.818797Z",
     "iopub.status.idle": "2023-03-07T06:27:36.827604Z",
     "shell.execute_reply": "2023-03-07T06:27:36.825885Z"
    },
    "id": "VD20wMQtwGuQ",
    "papermill": {
     "duration": 0.030516,
     "end_time": "2023-03-07T06:27:36.830399",
     "exception": false,
     "start_time": "2023-03-07T06:27:36.799883",
     "status": "completed"
    },
    "tags": []
   },
   "outputs": [],
   "source": [
    "df_test['Parch']=np.where(df_test['Parch']<quantile1,quantile1,df_test['Parch'])\n",
    "df_test['Parch']=np.where(df_test['Parch']>quantile1,quantile1,df_test['Parch'])"
   ]
  },
  {
   "cell_type": "code",
   "execution_count": 48,
   "id": "1ccbe61a",
   "metadata": {
    "execution": {
     "iopub.execute_input": "2023-03-07T06:27:36.867070Z",
     "iopub.status.busy": "2023-03-07T06:27:36.866628Z",
     "iopub.status.idle": "2023-03-07T06:27:36.873953Z",
     "shell.execute_reply": "2023-03-07T06:27:36.872945Z"
    },
    "id": "2Vrg7FvcwLFO",
    "papermill": {
     "duration": 0.029431,
     "end_time": "2023-03-07T06:27:36.876676",
     "exception": false,
     "start_time": "2023-03-07T06:27:36.847245",
     "status": "completed"
    },
    "tags": []
   },
   "outputs": [
    {
     "data": {
      "text/plain": [
       "0"
      ]
     },
     "execution_count": 48,
     "metadata": {},
     "output_type": "execute_result"
    }
   ],
   "source": [
    "df_test['Parch'].skew()"
   ]
  },
  {
   "cell_type": "code",
   "execution_count": 49,
   "id": "4e1fff3b",
   "metadata": {
    "execution": {
     "iopub.execute_input": "2023-03-07T06:27:36.911921Z",
     "iopub.status.busy": "2023-03-07T06:27:36.911479Z",
     "iopub.status.idle": "2023-03-07T06:27:36.922156Z",
     "shell.execute_reply": "2023-03-07T06:27:36.921089Z"
    },
    "id": "vH9FyyjEwbv4",
    "papermill": {
     "duration": 0.031424,
     "end_time": "2023-03-07T06:27:36.924631",
     "exception": false,
     "start_time": "2023-03-07T06:27:36.893207",
     "status": "completed"
    },
    "tags": []
   },
   "outputs": [
    {
     "data": {
      "text/plain": [
       "0.7559299216840454"
      ]
     },
     "execution_count": 49,
     "metadata": {},
     "output_type": "execute_result"
    }
   ],
   "source": [
    "df_test['Embarked']=np.sqrt(df_test['Embarked'])\n",
    "df_test['Embarked'].skew()"
   ]
  },
  {
   "cell_type": "code",
   "execution_count": 50,
   "id": "6d60d944",
   "metadata": {
    "execution": {
     "iopub.execute_input": "2023-03-07T06:27:36.960452Z",
     "iopub.status.busy": "2023-03-07T06:27:36.959680Z",
     "iopub.status.idle": "2023-03-07T06:27:37.957857Z",
     "shell.execute_reply": "2023-03-07T06:27:37.956440Z"
    },
    "papermill": {
     "duration": 1.020043,
     "end_time": "2023-03-07T06:27:37.961134",
     "exception": false,
     "start_time": "2023-03-07T06:27:36.941091",
     "status": "completed"
    },
    "tags": []
   },
   "outputs": [],
   "source": [
    "from sklearn.ensemble import RandomForestClassifier\n",
    "features=['Pclass','female','male','SibSp','Parch']\n",
    "x=pd.get_dummies(df_train[features])\n",
    "y=df_train['Survived']\n",
    "\n",
    "x_test=pd.get_dummies(df_test[features])\n",
    "model=RandomForestClassifier(n_estimators=100,max_depth=3,random_state=2)\n",
    "model.fit(x,y)\n",
    "pred=model.predict(x_test)"
   ]
  },
  {
   "cell_type": "code",
   "execution_count": 51,
   "id": "5ebcf2b8",
   "metadata": {
    "execution": {
     "iopub.execute_input": "2023-03-07T06:27:37.997688Z",
     "iopub.status.busy": "2023-03-07T06:27:37.997245Z",
     "iopub.status.idle": "2023-03-07T06:27:38.007817Z",
     "shell.execute_reply": "2023-03-07T06:27:38.006087Z"
    },
    "papermill": {
     "duration": 0.031566,
     "end_time": "2023-03-07T06:27:38.010862",
     "exception": false,
     "start_time": "2023-03-07T06:27:37.979296",
     "status": "completed"
    },
    "tags": []
   },
   "outputs": [
    {
     "data": {
      "text/plain": [
       "array([0, 1, 0, 0, 1, 0, 1, 0, 1, 0, 0, 0, 1, 0, 1, 1, 0, 0, 1, 1, 0, 0,\n",
       "       1, 0, 1, 0, 1, 0, 0, 0, 0, 0, 1, 1, 0, 0, 1, 1, 0, 0, 0, 0, 0, 1,\n",
       "       1, 0, 0, 0, 1, 1, 0, 0, 1, 1, 0, 0, 0, 0, 0, 1, 0, 0, 0, 1, 0, 1,\n",
       "       1, 0, 0, 1, 1, 0, 1, 0, 1, 0, 0, 1, 0, 1, 0, 0, 0, 0, 0, 0, 1, 1,\n",
       "       1, 0, 1, 0, 1, 0, 0, 0, 1, 0, 1, 0, 1, 0, 0, 0, 1, 0, 0, 0, 0, 0,\n",
       "       0, 1, 1, 1, 1, 0, 0, 1, 0, 1, 1, 0, 1, 0, 0, 1, 0, 1, 0, 0, 0, 0,\n",
       "       1, 0, 0, 0, 0, 0, 1, 0, 0, 1, 0, 0, 0, 0, 0, 0, 0, 0, 1, 0, 0, 1,\n",
       "       0, 0, 1, 1, 0, 1, 1, 0, 1, 0, 0, 1, 0, 0, 1, 1, 0, 0, 0, 0, 0, 1,\n",
       "       1, 0, 1, 1, 0, 0, 1, 0, 1, 0, 1, 0, 0, 0, 0, 0, 0, 0, 0, 0, 0, 1,\n",
       "       0, 1, 1, 0, 0, 1, 0, 0, 1, 0, 1, 0, 0, 0, 0, 1, 0, 0, 1, 0, 1, 0,\n",
       "       1, 0, 1, 0, 1, 1, 0, 1, 0, 0, 0, 1, 0, 0, 0, 0, 0, 0, 1, 1, 1, 1,\n",
       "       0, 0, 0, 0, 1, 0, 1, 1, 1, 0, 0, 0, 0, 0, 0, 0, 1, 0, 0, 0, 1, 1,\n",
       "       0, 0, 0, 0, 1, 0, 0, 0, 1, 1, 0, 1, 0, 0, 0, 0, 1, 0, 1, 1, 1, 0,\n",
       "       0, 0, 0, 0, 0, 1, 0, 0, 0, 0, 1, 0, 0, 0, 0, 0, 0, 0, 1, 1, 0, 0,\n",
       "       0, 1, 0, 0, 0, 1, 1, 1, 0, 0, 0, 0, 0, 0, 0, 0, 1, 0, 1, 0, 0, 0,\n",
       "       1, 0, 0, 1, 0, 0, 0, 0, 0, 0, 0, 0, 0, 1, 0, 1, 0, 1, 0, 1, 1, 0,\n",
       "       0, 0, 1, 0, 1, 0, 0, 1, 0, 1, 1, 0, 1, 1, 0, 1, 1, 0, 0, 1, 0, 0,\n",
       "       1, 1, 1, 0, 0, 0, 0, 0, 1, 1, 0, 1, 0, 0, 0, 0, 0, 1, 0, 0, 0, 1,\n",
       "       0, 1, 0, 0, 1, 0, 1, 0, 0, 0, 0, 0, 1, 1, 1, 1, 1, 0, 1, 0, 0, 0])"
      ]
     },
     "execution_count": 51,
     "metadata": {},
     "output_type": "execute_result"
    }
   ],
   "source": [
    "pred"
   ]
  },
  {
   "cell_type": "code",
   "execution_count": 52,
   "id": "412f3281",
   "metadata": {
    "execution": {
     "iopub.execute_input": "2023-03-07T06:27:38.046614Z",
     "iopub.status.busy": "2023-03-07T06:27:38.045605Z",
     "iopub.status.idle": "2023-03-07T06:27:38.053829Z",
     "shell.execute_reply": "2023-03-07T06:27:38.052050Z"
    },
    "papermill": {
     "duration": 0.029528,
     "end_time": "2023-03-07T06:27:38.057017",
     "exception": false,
     "start_time": "2023-03-07T06:27:38.027489",
     "status": "completed"
    },
    "tags": []
   },
   "outputs": [],
   "source": [
    "result=pd.DataFrame({'PassengerId':df_test.PassengerId,'Survived':pred})"
   ]
  },
  {
   "cell_type": "code",
   "execution_count": 53,
   "id": "be307983",
   "metadata": {
    "execution": {
     "iopub.execute_input": "2023-03-07T06:27:38.094211Z",
     "iopub.status.busy": "2023-03-07T06:27:38.093725Z",
     "iopub.status.idle": "2023-03-07T06:27:38.105682Z",
     "shell.execute_reply": "2023-03-07T06:27:38.104302Z"
    },
    "papermill": {
     "duration": 0.034088,
     "end_time": "2023-03-07T06:27:38.108771",
     "exception": false,
     "start_time": "2023-03-07T06:27:38.074683",
     "status": "completed"
    },
    "tags": []
   },
   "outputs": [],
   "source": [
    "result.to_csv(\"sub.csv\",index=False)"
   ]
  }
 ],
 "metadata": {
  "kernelspec": {
   "display_name": "Python 3",
   "language": "python",
   "name": "python3"
  },
  "language_info": {
   "codemirror_mode": {
    "name": "ipython",
    "version": 3
   },
   "file_extension": ".py",
   "mimetype": "text/x-python",
   "name": "python",
   "nbconvert_exporter": "python",
   "pygments_lexer": "ipython3",
   "version": "3.7.12"
  },
  "papermill": {
   "default_parameters": {},
   "duration": 18.266828,
   "end_time": "2023-03-07T06:27:39.052420",
   "environment_variables": {},
   "exception": null,
   "input_path": "__notebook__.ipynb",
   "output_path": "__notebook__.ipynb",
   "parameters": {},
   "start_time": "2023-03-07T06:27:20.785592",
   "version": "2.4.0"
  }
 },
 "nbformat": 4,
 "nbformat_minor": 5
}
